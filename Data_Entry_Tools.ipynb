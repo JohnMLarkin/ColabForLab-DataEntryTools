{
  "nbformat": 4,
  "nbformat_minor": 0,
  "metadata": {
    "colab": {
      "provenance": [],
      "authorship_tag": "ABX9TyNm4q0teZV5ao1FWOVQ9RYW"
    },
    "kernelspec": {
      "name": "python3",
      "display_name": "Python 3"
    },
    "language_info": {
      "name": "python"
    }
  },
  "cells": [
    {
      "cell_type": "markdown",
      "source": [
        "# Install and Import Libraries"
      ],
      "metadata": {
        "id": "tt-cqfyFsYSO"
      }
    },
    {
      "cell_type": "code",
      "execution_count": null,
      "metadata": {
        "id": "S0UMw4DrrtY4"
      },
      "outputs": [],
      "source": [
        "!pip install whit-phys-util 1>/dev/null"
      ]
    },
    {
      "cell_type": "code",
      "source": [
        "import whit_phys_util as buc\n",
        "import pandas as pd"
      ],
      "metadata": {
        "id": "8w_TQARZryqv"
      },
      "execution_count": null,
      "outputs": []
    },
    {
      "cell_type": "markdown",
      "source": [
        "# Connect to GitHub"
      ],
      "metadata": {
        "id": "8rh9iokqsjWV"
      }
    },
    {
      "cell_type": "code",
      "source": [
        "repo = buc.local_repository(\"replace me\")"
      ],
      "metadata": {
        "id": "yNt33RATr_cU"
      },
      "execution_count": null,
      "outputs": []
    },
    {
      "cell_type": "markdown",
      "source": [
        "# Parachute data"
      ],
      "metadata": {
        "id": "ro_ny46OtN6K"
      }
    }
  ]
}